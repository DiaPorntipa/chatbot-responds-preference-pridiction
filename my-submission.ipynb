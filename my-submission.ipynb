{
 "cells": [
  {
   "cell_type": "code",
   "execution_count": 1,
   "id": "4f34f928",
   "metadata": {
    "_cell_guid": "b1076dfc-b9ad-4769-8c92-a6c4dae69d19",
    "_uuid": "8f2839f25d086af736a60e9eeb907d3b93b6e0e5",
    "execution": {
     "iopub.execute_input": "2024-07-15T05:22:06.454764Z",
     "iopub.status.busy": "2024-07-15T05:22:06.454310Z",
     "iopub.status.idle": "2024-07-15T05:22:07.462486Z",
     "shell.execute_reply": "2024-07-15T05:22:07.460711Z"
    },
    "papermill": {
     "duration": 1.018051,
     "end_time": "2024-07-15T05:22:07.465146",
     "exception": false,
     "start_time": "2024-07-15T05:22:06.447095",
     "status": "completed"
    },
    "tags": []
   },
   "outputs": [
    {
     "name": "stdout",
     "output_type": "stream",
     "text": [
      "/kaggle/input/lmsys-chatbot-arena/sample_submission.csv\n",
      "/kaggle/input/lmsys-chatbot-arena/train.csv\n",
      "/kaggle/input/lmsys-chatbot-arena/test.csv\n"
     ]
    }
   ],
   "source": [
    "# This Python 3 environment comes with many helpful analytics libraries installed\n",
    "# It is defined by the kaggle/python Docker image: https://github.com/kaggle/docker-python\n",
    "# For example, here's several helpful packages to load\n",
    "\n",
    "import numpy as np # linear algebra\n",
    "import pandas as pd # data processing, CSV file I/O (e.g. pd.read_csv)\n",
    "\n",
    "# Input data files are available in the read-only \"../input/\" directory\n",
    "# For example, running this (by clicking run or pressing Shift+Enter) will list all files under the input directory\n",
    "\n",
    "import os\n",
    "for dirname, _, filenames in os.walk('/kaggle/input'):\n",
    "    for filename in filenames:\n",
    "        print(os.path.join(dirname, filename))\n",
    "\n",
    "# You can write up to 20GB to the current directory (/kaggle/working/) that gets preserved as output when you create a version using \"Save & Run All\" \n",
    "# You can also write temporary files to /kaggle/temp/, but they won't be saved outside of the current session"
   ]
  },
  {
   "cell_type": "markdown",
   "id": "410baa0e",
   "metadata": {
    "papermill": {
     "duration": 0.00477,
     "end_time": "2024-07-15T05:22:07.475297",
     "exception": false,
     "start_time": "2024-07-15T05:22:07.470527",
     "status": "completed"
    },
    "tags": []
   },
   "source": [
    "# Initial Data Exploration"
   ]
  },
  {
   "cell_type": "code",
   "execution_count": 2,
   "id": "05aefc0c",
   "metadata": {
    "execution": {
     "iopub.execute_input": "2024-07-15T05:22:07.487396Z",
     "iopub.status.busy": "2024-07-15T05:22:07.486831Z",
     "iopub.status.idle": "2024-07-15T05:22:11.532334Z",
     "shell.execute_reply": "2024-07-15T05:22:11.531226Z"
    },
    "papermill": {
     "duration": 4.05525,
     "end_time": "2024-07-15T05:22:11.535535",
     "exception": false,
     "start_time": "2024-07-15T05:22:07.480285",
     "status": "completed"
    },
    "tags": []
   },
   "outputs": [
    {
     "data": {
      "text/html": [
       "<div>\n",
       "<style scoped>\n",
       "    .dataframe tbody tr th:only-of-type {\n",
       "        vertical-align: middle;\n",
       "    }\n",
       "\n",
       "    .dataframe tbody tr th {\n",
       "        vertical-align: top;\n",
       "    }\n",
       "\n",
       "    .dataframe thead th {\n",
       "        text-align: right;\n",
       "    }\n",
       "</style>\n",
       "<table border=\"1\" class=\"dataframe\">\n",
       "  <thead>\n",
       "    <tr style=\"text-align: right;\">\n",
       "      <th></th>\n",
       "      <th>id</th>\n",
       "      <th>model_a</th>\n",
       "      <th>model_b</th>\n",
       "      <th>prompt</th>\n",
       "      <th>response_a</th>\n",
       "      <th>response_b</th>\n",
       "      <th>winner_model_a</th>\n",
       "      <th>winner_model_b</th>\n",
       "      <th>winner_tie</th>\n",
       "    </tr>\n",
       "  </thead>\n",
       "  <tbody>\n",
       "    <tr>\n",
       "      <th>0</th>\n",
       "      <td>30192</td>\n",
       "      <td>gpt-4-1106-preview</td>\n",
       "      <td>gpt-4-0613</td>\n",
       "      <td>[\"Is it morally right to try to have a certain...</td>\n",
       "      <td>[\"The question of whether it is morally right ...</td>\n",
       "      <td>[\"As an AI, I don't have personal beliefs or o...</td>\n",
       "      <td>1</td>\n",
       "      <td>0</td>\n",
       "      <td>0</td>\n",
       "    </tr>\n",
       "    <tr>\n",
       "      <th>1</th>\n",
       "      <td>53567</td>\n",
       "      <td>koala-13b</td>\n",
       "      <td>gpt-4-0613</td>\n",
       "      <td>[\"What is the difference between marriage lice...</td>\n",
       "      <td>[\"A marriage license is a legal document that ...</td>\n",
       "      <td>[\"A marriage license and a marriage certificat...</td>\n",
       "      <td>0</td>\n",
       "      <td>1</td>\n",
       "      <td>0</td>\n",
       "    </tr>\n",
       "    <tr>\n",
       "      <th>2</th>\n",
       "      <td>65089</td>\n",
       "      <td>gpt-3.5-turbo-0613</td>\n",
       "      <td>mistral-medium</td>\n",
       "      <td>[\"explain function calling. how would you call...</td>\n",
       "      <td>[\"Function calling is the process of invoking ...</td>\n",
       "      <td>[\"Function calling is the process of invoking ...</td>\n",
       "      <td>0</td>\n",
       "      <td>0</td>\n",
       "      <td>1</td>\n",
       "    </tr>\n",
       "    <tr>\n",
       "      <th>3</th>\n",
       "      <td>96401</td>\n",
       "      <td>llama-2-13b-chat</td>\n",
       "      <td>mistral-7b-instruct</td>\n",
       "      <td>[\"How can I create a test set for a very rare ...</td>\n",
       "      <td>[\"Creating a test set for a very rare category...</td>\n",
       "      <td>[\"When building a classifier for a very rare c...</td>\n",
       "      <td>1</td>\n",
       "      <td>0</td>\n",
       "      <td>0</td>\n",
       "    </tr>\n",
       "    <tr>\n",
       "      <th>4</th>\n",
       "      <td>198779</td>\n",
       "      <td>koala-13b</td>\n",
       "      <td>gpt-3.5-turbo-0314</td>\n",
       "      <td>[\"What is the best way to travel from Tel-Aviv...</td>\n",
       "      <td>[\"The best way to travel from Tel Aviv to Jeru...</td>\n",
       "      <td>[\"The best way to travel from Tel-Aviv to Jeru...</td>\n",
       "      <td>0</td>\n",
       "      <td>1</td>\n",
       "      <td>0</td>\n",
       "    </tr>\n",
       "  </tbody>\n",
       "</table>\n",
       "</div>"
      ],
      "text/plain": [
       "       id             model_a              model_b  \\\n",
       "0   30192  gpt-4-1106-preview           gpt-4-0613   \n",
       "1   53567           koala-13b           gpt-4-0613   \n",
       "2   65089  gpt-3.5-turbo-0613       mistral-medium   \n",
       "3   96401    llama-2-13b-chat  mistral-7b-instruct   \n",
       "4  198779           koala-13b   gpt-3.5-turbo-0314   \n",
       "\n",
       "                                              prompt  \\\n",
       "0  [\"Is it morally right to try to have a certain...   \n",
       "1  [\"What is the difference between marriage lice...   \n",
       "2  [\"explain function calling. how would you call...   \n",
       "3  [\"How can I create a test set for a very rare ...   \n",
       "4  [\"What is the best way to travel from Tel-Aviv...   \n",
       "\n",
       "                                          response_a  \\\n",
       "0  [\"The question of whether it is morally right ...   \n",
       "1  [\"A marriage license is a legal document that ...   \n",
       "2  [\"Function calling is the process of invoking ...   \n",
       "3  [\"Creating a test set for a very rare category...   \n",
       "4  [\"The best way to travel from Tel Aviv to Jeru...   \n",
       "\n",
       "                                          response_b  winner_model_a  \\\n",
       "0  [\"As an AI, I don't have personal beliefs or o...               1   \n",
       "1  [\"A marriage license and a marriage certificat...               0   \n",
       "2  [\"Function calling is the process of invoking ...               0   \n",
       "3  [\"When building a classifier for a very rare c...               1   \n",
       "4  [\"The best way to travel from Tel-Aviv to Jeru...               0   \n",
       "\n",
       "   winner_model_b  winner_tie  \n",
       "0               0           0  \n",
       "1               1           0  \n",
       "2               0           1  \n",
       "3               0           0  \n",
       "4               1           0  "
      ]
     },
     "execution_count": 2,
     "metadata": {},
     "output_type": "execute_result"
    }
   ],
   "source": [
    "df = pd.read_csv('/kaggle/input/lmsys-chatbot-arena/train.csv')\n",
    "df.head()"
   ]
  },
  {
   "cell_type": "code",
   "execution_count": 3,
   "id": "465b9adc",
   "metadata": {
    "execution": {
     "iopub.execute_input": "2024-07-15T05:22:11.551883Z",
     "iopub.status.busy": "2024-07-15T05:22:11.550983Z",
     "iopub.status.idle": "2024-07-15T05:22:11.629943Z",
     "shell.execute_reply": "2024-07-15T05:22:11.628275Z"
    },
    "papermill": {
     "duration": 0.09029,
     "end_time": "2024-07-15T05:22:11.633112",
     "exception": false,
     "start_time": "2024-07-15T05:22:11.542822",
     "status": "completed"
    },
    "tags": []
   },
   "outputs": [
    {
     "name": "stdout",
     "output_type": "stream",
     "text": [
      "<class 'pandas.core.frame.DataFrame'>\n",
      "RangeIndex: 57477 entries, 0 to 57476\n",
      "Data columns (total 9 columns):\n",
      " #   Column          Non-Null Count  Dtype \n",
      "---  ------          --------------  ----- \n",
      " 0   id              57477 non-null  int64 \n",
      " 1   model_a         57477 non-null  object\n",
      " 2   model_b         57477 non-null  object\n",
      " 3   prompt          57477 non-null  object\n",
      " 4   response_a      57477 non-null  object\n",
      " 5   response_b      57477 non-null  object\n",
      " 6   winner_model_a  57477 non-null  int64 \n",
      " 7   winner_model_b  57477 non-null  int64 \n",
      " 8   winner_tie      57477 non-null  int64 \n",
      "dtypes: int64(4), object(5)\n",
      "memory usage: 3.9+ MB\n"
     ]
    }
   ],
   "source": [
    "df.info()\n",
    "\n",
    "# FINDING: No Null values in the data"
   ]
  },
  {
   "cell_type": "code",
   "execution_count": 4,
   "id": "de59ed2c",
   "metadata": {
    "execution": {
     "iopub.execute_input": "2024-07-15T05:22:11.649698Z",
     "iopub.status.busy": "2024-07-15T05:22:11.649172Z",
     "iopub.status.idle": "2024-07-15T05:22:11.662929Z",
     "shell.execute_reply": "2024-07-15T05:22:11.661736Z"
    },
    "papermill": {
     "duration": 0.024983,
     "end_time": "2024-07-15T05:22:11.665972",
     "exception": false,
     "start_time": "2024-07-15T05:22:11.640989",
     "status": "completed"
    },
    "tags": []
   },
   "outputs": [
    {
     "name": "stdout",
     "output_type": "stream",
     "text": [
      "prompt: [\"Is it morally right to try to have a certain percentage of females on managerial positions?\",\"OK, does pineapple belong on a pizza? Relax and give me fun answer.\"]\n",
      "\n",
      "response_a: [\"The question of whether it is morally right to aim for a certain percentage of females in managerial positions is a complex ethical issue that involves considerations of fairness, equality, diversity, and discrimination.\\n\\nHere are some arguments in favor of and against such policies:\\n\\n**Arguments in favor:**\\n\\n1. **Correcting Historical Inequities:** Women have historically been underrepresented in leadership roles due to various cultural, institutional, and social barriers. Aiming for a specific percentage can be seen as a corrective measure to address past and ongoing discrimination.\\n\\n2. **Promoting Diversity:** Diverse leadership teams can enhance decision-making and represent a broader range of perspectives. This can lead to better outcomes for organizations and society as a whole.\\n\\n3. **Equality of Opportunity:** Setting targets for female representation in management can help ensure that women have equal opportunities to advance in their careers.\\n\\n4. **Role Modeling:** Increased visibility of female leaders can inspire and encourage other women and girls to pursue leadership roles.\\n\\n**Arguments against:**\\n\\n1. **Reverse Discrimination:** Setting a quota for female representation might lead to the perception or reality of reverse discrimination, where men might be overlooked for positions despite being qualified, simply to meet the gender target.\\n\\n2. **Meritocracy Concerns:** Critics argue that employment and promotion should be based solely on merit and qualifications, not gender. They fear that quotas could compromise the quality of leadership if less qualified individuals are promoted to meet gender targets.\\n\\n3. **Tokenism:** There is a risk that women appointed to meet quotas might be seen as \\\"tokens,\\\" undermining their legitimacy and potentially leading to resentment among colleagues.\\n\\n4. **Oversimplification of Diversity:** Focusing only on gender might overlook other important aspects of diversity, such as race, ethnicity, socioeconomic background, or sexual orientation.\\n\\nUltimately, the morality of aiming for a certain percentage of females in managerial positions depends on one's ethical framework and the context in which such policies are implemented. Proponents of gender diversity targets often argue that these measures are necessary as a transitional mechanism to create a level playing field, while opponents may argue for a \\\"color-blind\\\" or \\\"gender-blind\\\" approach to hiring and promotions.\\n\\nOrganizations and societies must carefully consider the implications of these strategies and strive to implement policies that promote fairness and equality while minimizing negative consequences. It is also important to address the root causes of gender inequality, such as unconscious bias, work-life balance challenges, and lack of supportive policies, to create an environment where everyone has the opportunity to succeed based on their capabilities and contributions.\",\"Ah, the age-old culinary conundrum that has divided nations and dinner tables: does pineapple belong on a pizza? The tropical twist of pineapple on pizza, known as Hawaiian pizza, is a hotly debated topic where taste buds battle and pizza purists protest.\\n\\nLet's slice into the debate with a zest of fun:\\n\\n**Team Pineapple:** \\\"Absolutely, yes! Pineapple on pizza is like a beach party in your mouth. The sweet juiciness of pineapple chunks frolicking with savory ham or bacon creates a flavor wave that surfs across the cheesy ocean of deliciousness. It's the Mardi Gras of pizzas, where sweet meets savory in a jubilant jamboree!\\\"\\n\\n**Team No-Pineapple:** \\\"No way, not in a million pizzas! Pineapple is a fruit that should be sunbathing on a tropical fruit platter, not freeloading on a sacred slice of pizza. The thought of warm, melty cheese conspiring with pineapple's sugary mischief is enough to make Italian ancestors turn in their tomato patches. Keep the pineapple in the fruit salad where it belongs!\\\"\\n\\nAt the end of the day, whether pineapple belongs on pizza is a matter of personal taste. Some say it's a match made in heaven, others say it's a culinary crime. But let's face it, in the world of pizza toppings, where you can find everything from anchovies to zucchini, there's room for a little pineapple pizzazz. So, if your taste buds crave that sweet and tangy twist, go ahead and let your pineapple flag fly atop that glorious cheese-covered dough. Bon app\\u00e9tit, or as they say in pineapple paradise, \\\"Aloha-ppetite!\\\" \\ud83c\\udf4d\\ud83c\\udf55\"]\n",
      "\n",
      "response_a type: <class 'list'>\n",
      "\n",
      "response_a length: 2\n"
     ]
    }
   ],
   "source": [
    "print(\"prompt: \" + df.prompt[0] + '\\n')\n",
    "print(\"response_a: \" + df.response_a[0] + '\\n')\n",
    "print(\"response_a type: \" + str(type(eval(df.response_a[0]))) + '\\n')\n",
    "print(\"response_a length: \" + str(len(eval(df.response_a[0]))))\n",
    "\n",
    "# FINDING: Prompts and response are in string of a list object format\n",
    "# FINDING: Some rows contain multiple prompts and response"
   ]
  },
  {
   "cell_type": "markdown",
   "id": "715f8fb6",
   "metadata": {
    "papermill": {
     "duration": 0.007775,
     "end_time": "2024-07-15T05:22:11.681816",
     "exception": false,
     "start_time": "2024-07-15T05:22:11.674041",
     "status": "completed"
    },
    "tags": []
   },
   "source": [
    "# Data Pre-processing"
   ]
  },
  {
   "cell_type": "code",
   "execution_count": 5,
   "id": "775a8c41",
   "metadata": {
    "execution": {
     "iopub.execute_input": "2024-07-15T05:22:11.696005Z",
     "iopub.status.busy": "2024-07-15T05:22:11.695023Z",
     "iopub.status.idle": "2024-07-15T05:22:11.708260Z",
     "shell.execute_reply": "2024-07-15T05:22:11.707006Z"
    },
    "papermill": {
     "duration": 0.023459,
     "end_time": "2024-07-15T05:22:11.711251",
     "exception": false,
     "start_time": "2024-07-15T05:22:11.687792",
     "status": "completed"
    },
    "tags": []
   },
   "outputs": [],
   "source": [
    "import copy\n",
    "df_orig = copy.deepcopy(df)"
   ]
  },
  {
   "cell_type": "code",
   "execution_count": 6,
   "id": "eeeaf458",
   "metadata": {
    "execution": {
     "iopub.execute_input": "2024-07-15T05:22:11.725536Z",
     "iopub.status.busy": "2024-07-15T05:22:11.724432Z",
     "iopub.status.idle": "2024-07-15T05:22:16.322143Z",
     "shell.execute_reply": "2024-07-15T05:22:16.320638Z"
    },
    "papermill": {
     "duration": 4.607784,
     "end_time": "2024-07-15T05:22:16.324996",
     "exception": false,
     "start_time": "2024-07-15T05:22:11.717212",
     "status": "completed"
    },
    "tags": []
   },
   "outputs": [
    {
     "data": {
      "text/html": [
       "<div>\n",
       "<style scoped>\n",
       "    .dataframe tbody tr th:only-of-type {\n",
       "        vertical-align: middle;\n",
       "    }\n",
       "\n",
       "    .dataframe tbody tr th {\n",
       "        vertical-align: top;\n",
       "    }\n",
       "\n",
       "    .dataframe thead th {\n",
       "        text-align: right;\n",
       "    }\n",
       "</style>\n",
       "<table border=\"1\" class=\"dataframe\">\n",
       "  <thead>\n",
       "    <tr style=\"text-align: right;\">\n",
       "      <th></th>\n",
       "      <th>id</th>\n",
       "      <th>model_a</th>\n",
       "      <th>model_b</th>\n",
       "      <th>prompt</th>\n",
       "      <th>response_a</th>\n",
       "      <th>response_b</th>\n",
       "      <th>winner_model_a</th>\n",
       "      <th>winner_model_b</th>\n",
       "      <th>winner_tie</th>\n",
       "    </tr>\n",
       "  </thead>\n",
       "  <tbody>\n",
       "    <tr>\n",
       "      <th>0</th>\n",
       "      <td>30192</td>\n",
       "      <td>gpt-4-1106-preview</td>\n",
       "      <td>gpt-4-0613</td>\n",
       "      <td>Is it morally right to try to have a certain p...</td>\n",
       "      <td>The question of whether it is morally right to...</td>\n",
       "      <td>As an AI, I don't have personal beliefs or opi...</td>\n",
       "      <td>1</td>\n",
       "      <td>0</td>\n",
       "      <td>0</td>\n",
       "    </tr>\n",
       "    <tr>\n",
       "      <th>1</th>\n",
       "      <td>53567</td>\n",
       "      <td>koala-13b</td>\n",
       "      <td>gpt-4-0613</td>\n",
       "      <td>What is the difference between marriage licens...</td>\n",
       "      <td>A marriage license is a legal document that al...</td>\n",
       "      <td>A marriage license and a marriage certificate ...</td>\n",
       "      <td>0</td>\n",
       "      <td>1</td>\n",
       "      <td>0</td>\n",
       "    </tr>\n",
       "    <tr>\n",
       "      <th>2</th>\n",
       "      <td>65089</td>\n",
       "      <td>gpt-3.5-turbo-0613</td>\n",
       "      <td>mistral-medium</td>\n",
       "      <td>explain function calling. how would you call a...</td>\n",
       "      <td>Function calling is the process of invoking or...</td>\n",
       "      <td>Function calling is the process of invoking a ...</td>\n",
       "      <td>0</td>\n",
       "      <td>0</td>\n",
       "      <td>1</td>\n",
       "    </tr>\n",
       "    <tr>\n",
       "      <th>3</th>\n",
       "      <td>96401</td>\n",
       "      <td>llama-2-13b-chat</td>\n",
       "      <td>mistral-7b-instruct</td>\n",
       "      <td>How can I create a test set for a very rare ca...</td>\n",
       "      <td>Creating a test set for a very rare category c...</td>\n",
       "      <td>When building a classifier for a very rare cat...</td>\n",
       "      <td>1</td>\n",
       "      <td>0</td>\n",
       "      <td>0</td>\n",
       "    </tr>\n",
       "    <tr>\n",
       "      <th>4</th>\n",
       "      <td>198779</td>\n",
       "      <td>koala-13b</td>\n",
       "      <td>gpt-3.5-turbo-0314</td>\n",
       "      <td>What is the best way to travel from Tel-Aviv t...</td>\n",
       "      <td>The best way to travel from Tel Aviv to Jerusa...</td>\n",
       "      <td>The best way to travel from Tel-Aviv to Jerusa...</td>\n",
       "      <td>0</td>\n",
       "      <td>1</td>\n",
       "      <td>0</td>\n",
       "    </tr>\n",
       "  </tbody>\n",
       "</table>\n",
       "</div>"
      ],
      "text/plain": [
       "       id             model_a              model_b  \\\n",
       "0   30192  gpt-4-1106-preview           gpt-4-0613   \n",
       "1   53567           koala-13b           gpt-4-0613   \n",
       "2   65089  gpt-3.5-turbo-0613       mistral-medium   \n",
       "3   96401    llama-2-13b-chat  mistral-7b-instruct   \n",
       "4  198779           koala-13b   gpt-3.5-turbo-0314   \n",
       "\n",
       "                                              prompt  \\\n",
       "0  Is it morally right to try to have a certain p...   \n",
       "1  What is the difference between marriage licens...   \n",
       "2  explain function calling. how would you call a...   \n",
       "3  How can I create a test set for a very rare ca...   \n",
       "4  What is the best way to travel from Tel-Aviv t...   \n",
       "\n",
       "                                          response_a  \\\n",
       "0  The question of whether it is morally right to...   \n",
       "1  A marriage license is a legal document that al...   \n",
       "2  Function calling is the process of invoking or...   \n",
       "3  Creating a test set for a very rare category c...   \n",
       "4  The best way to travel from Tel Aviv to Jerusa...   \n",
       "\n",
       "                                          response_b  winner_model_a  \\\n",
       "0  As an AI, I don't have personal beliefs or opi...               1   \n",
       "1  A marriage license and a marriage certificate ...               0   \n",
       "2  Function calling is the process of invoking a ...               0   \n",
       "3  When building a classifier for a very rare cat...               1   \n",
       "4  The best way to travel from Tel-Aviv to Jerusa...               0   \n",
       "\n",
       "   winner_model_b  winner_tie  \n",
       "0               0           0  \n",
       "1               1           0  \n",
       "2               0           1  \n",
       "3               0           0  \n",
       "4               1           0  "
      ]
     },
     "execution_count": 6,
     "metadata": {},
     "output_type": "execute_result"
    }
   ],
   "source": [
    "# Use only the first prompt-responses as input\n",
    "# TODO: Do feature engineering and edit this cell\n",
    "df[\"prompt\"] = df.prompt.map(lambda x: eval(x)[0])\n",
    "df[\"response_a\"] = df.response_a.map(lambda x: eval(x.replace(\"null\", \"''\"))[0])\n",
    "df[\"response_b\"] = df.response_b.map(lambda x: eval(x.replace(\"null\", \"''\"))[0])\n",
    "df.head()\n",
    "\n",
    "# FINDING: Responses contain \"null\" values"
   ]
  },
  {
   "cell_type": "markdown",
   "id": "92b4b37e",
   "metadata": {
    "papermill": {
     "duration": 0.00576,
     "end_time": "2024-07-15T05:22:16.337036",
     "exception": false,
     "start_time": "2024-07-15T05:22:16.331276",
     "status": "completed"
    },
    "tags": []
   },
   "source": [
    "## Inspect \"null\" values in responses"
   ]
  },
  {
   "cell_type": "code",
   "execution_count": 7,
   "id": "ee57f28a",
   "metadata": {
    "execution": {
     "iopub.execute_input": "2024-07-15T05:22:16.351893Z",
     "iopub.status.busy": "2024-07-15T05:22:16.351432Z",
     "iopub.status.idle": "2024-07-15T05:22:16.388308Z",
     "shell.execute_reply": "2024-07-15T05:22:16.387092Z"
    },
    "papermill": {
     "duration": 0.047226,
     "end_time": "2024-07-15T05:22:16.390833",
     "exception": false,
     "start_time": "2024-07-15T05:22:16.343607",
     "status": "completed"
    },
    "tags": []
   },
   "outputs": [
    {
     "name": "stdout",
     "output_type": "stream",
     "text": [
      "The number of null response_a: 0\n",
      "The number of null response_b: 0\n"
     ]
    }
   ],
   "source": [
    "print(\"The number of null response_a: \" + str(df_orig.response_a[df_orig.response_a == \"null\"].count()))\n",
    "print(\"The number of null response_b: \" + str(df_orig.response_b[df_orig.response_b == \"null\"].count()))\n",
    "\n",
    "# FINDING: No response is \"null\""
   ]
  },
  {
   "cell_type": "code",
   "execution_count": 8,
   "id": "34d78eba",
   "metadata": {
    "execution": {
     "iopub.execute_input": "2024-07-15T05:22:16.405344Z",
     "iopub.status.busy": "2024-07-15T05:22:16.404949Z",
     "iopub.status.idle": "2024-07-15T05:22:16.526067Z",
     "shell.execute_reply": "2024-07-15T05:22:16.524946Z"
    },
    "papermill": {
     "duration": 0.131643,
     "end_time": "2024-07-15T05:22:16.528600",
     "exception": false,
     "start_time": "2024-07-15T05:22:16.396957",
     "status": "completed"
    },
    "tags": []
   },
   "outputs": [
    {
     "data": {
      "text/html": [
       "<div>\n",
       "<style scoped>\n",
       "    .dataframe tbody tr th:only-of-type {\n",
       "        vertical-align: middle;\n",
       "    }\n",
       "\n",
       "    .dataframe tbody tr th {\n",
       "        vertical-align: top;\n",
       "    }\n",
       "\n",
       "    .dataframe thead th {\n",
       "        text-align: right;\n",
       "    }\n",
       "</style>\n",
       "<table border=\"1\" class=\"dataframe\">\n",
       "  <thead>\n",
       "    <tr style=\"text-align: right;\">\n",
       "      <th></th>\n",
       "      <th>id</th>\n",
       "      <th>model_a</th>\n",
       "      <th>model_b</th>\n",
       "      <th>prompt</th>\n",
       "      <th>response_a</th>\n",
       "      <th>response_b</th>\n",
       "      <th>winner_model_a</th>\n",
       "      <th>winner_model_b</th>\n",
       "      <th>winner_tie</th>\n",
       "    </tr>\n",
       "  </thead>\n",
       "  <tbody>\n",
       "    <tr>\n",
       "      <th>130</th>\n",
       "      <td>9644862</td>\n",
       "      <td>vicuna-7b</td>\n",
       "      <td>RWKV-4-Raven-14B</td>\n",
       "      <td>[\"Write me a Unity editor script that lists al...</td>\n",
       "      <td>[\"Here is a sample script that lists all the A...</td>\n",
       "      <td>[\"```\\nusing UnityEngine;\\nusing System.Collec...</td>\n",
       "      <td>1</td>\n",
       "      <td>0</td>\n",
       "      <td>0</td>\n",
       "    </tr>\n",
       "    <tr>\n",
       "      <th>191</th>\n",
       "      <td>15247315</td>\n",
       "      <td>gpt-3.5-turbo-0613</td>\n",
       "      <td>gpt-4-0613</td>\n",
       "      <td>[\"generate an laravel migration\"]</td>\n",
       "      <td>[\"To generate a Laravel migration, you can use...</td>\n",
       "      <td>[\"Sure, here's a basic Laravel migration examp...</td>\n",
       "      <td>0</td>\n",
       "      <td>0</td>\n",
       "      <td>1</td>\n",
       "    </tr>\n",
       "    <tr>\n",
       "      <th>207</th>\n",
       "      <td>16350735</td>\n",
       "      <td>claude-instant-1</td>\n",
       "      <td>tulu-2-dpo-70b</td>\n",
       "      <td>[\"Tell me about wwiii\",\"Enough\"]</td>\n",
       "      <td>[\"I do not have any confirmed details about a ...</td>\n",
       "      <td>[\"As an AI language model, I must clarify that...</td>\n",
       "      <td>0</td>\n",
       "      <td>1</td>\n",
       "      <td>0</td>\n",
       "    </tr>\n",
       "    <tr>\n",
       "      <th>281</th>\n",
       "      <td>22179610</td>\n",
       "      <td>claude-2.0</td>\n",
       "      <td>codellama-34b-instruct</td>\n",
       "      <td>[\"please write me a piece of Java-Code with Ja...</td>\n",
       "      <td>[\"Here is the Java code to check if a list has...</td>\n",
       "      <td>[\"Sure, here is a Java code using Java Streams...</td>\n",
       "      <td>0</td>\n",
       "      <td>0</td>\n",
       "      <td>1</td>\n",
       "    </tr>\n",
       "    <tr>\n",
       "      <th>333</th>\n",
       "      <td>25545380</td>\n",
       "      <td>vicuna-33b</td>\n",
       "      <td>vicuna-7b</td>\n",
       "      <td>[\"How to create a database model with sqlalche...</td>\n",
       "      <td>[\"SQLAlchemy is a popular Python SQL toolkit a...</td>\n",
       "      <td>[\"To create a database model using SQLAlchemy,...</td>\n",
       "      <td>1</td>\n",
       "      <td>0</td>\n",
       "      <td>0</td>\n",
       "    </tr>\n",
       "  </tbody>\n",
       "</table>\n",
       "</div>"
      ],
      "text/plain": [
       "           id             model_a                 model_b  \\\n",
       "130   9644862           vicuna-7b        RWKV-4-Raven-14B   \n",
       "191  15247315  gpt-3.5-turbo-0613              gpt-4-0613   \n",
       "207  16350735    claude-instant-1          tulu-2-dpo-70b   \n",
       "281  22179610          claude-2.0  codellama-34b-instruct   \n",
       "333  25545380          vicuna-33b               vicuna-7b   \n",
       "\n",
       "                                                prompt  \\\n",
       "130  [\"Write me a Unity editor script that lists al...   \n",
       "191                  [\"generate an laravel migration\"]   \n",
       "207                   [\"Tell me about wwiii\",\"Enough\"]   \n",
       "281  [\"please write me a piece of Java-Code with Ja...   \n",
       "333  [\"How to create a database model with sqlalche...   \n",
       "\n",
       "                                            response_a  \\\n",
       "130  [\"Here is a sample script that lists all the A...   \n",
       "191  [\"To generate a Laravel migration, you can use...   \n",
       "207  [\"I do not have any confirmed details about a ...   \n",
       "281  [\"Here is the Java code to check if a list has...   \n",
       "333  [\"SQLAlchemy is a popular Python SQL toolkit a...   \n",
       "\n",
       "                                            response_b  winner_model_a  \\\n",
       "130  [\"```\\nusing UnityEngine;\\nusing System.Collec...               1   \n",
       "191  [\"Sure, here's a basic Laravel migration examp...               0   \n",
       "207  [\"As an AI language model, I must clarify that...               0   \n",
       "281  [\"Sure, here is a Java code using Java Streams...               0   \n",
       "333  [\"To create a database model using SQLAlchemy,...               1   \n",
       "\n",
       "     winner_model_b  winner_tie  \n",
       "130               0           0  \n",
       "191               0           1  \n",
       "207               1           0  \n",
       "281               0           1  \n",
       "333               0           0  "
      ]
     },
     "execution_count": 8,
     "metadata": {},
     "output_type": "execute_result"
    }
   ],
   "source": [
    "def contains_null(string):\n",
    "    return True if string.find(\"null\") != -1 else False\n",
    "\n",
    "df_orig[df_orig.response_a.apply(contains_null)].head()"
   ]
  },
  {
   "cell_type": "code",
   "execution_count": 9,
   "id": "f524bf1b",
   "metadata": {
    "execution": {
     "iopub.execute_input": "2024-07-15T05:22:16.543784Z",
     "iopub.status.busy": "2024-07-15T05:22:16.543336Z",
     "iopub.status.idle": "2024-07-15T05:22:16.550887Z",
     "shell.execute_reply": "2024-07-15T05:22:16.549832Z"
    },
    "papermill": {
     "duration": 0.018183,
     "end_time": "2024-07-15T05:22:16.553371",
     "exception": false,
     "start_time": "2024-07-15T05:22:16.535188",
     "status": "completed"
    },
    "tags": []
   },
   "outputs": [
    {
     "data": {
      "text/plain": [
       "'[\"Here is a sample script that lists all the AudioSources in the scene and has a way to play them:\\\\n```\\\\nusing UnityEngine;\\\\nusing UnityEditor;\\\\n\\\\n[ExecuteInEditMode]\\\\npublic class AudioSourceSelector : EditorWindow\\\\n{\\\\n    public static AudioSourceSelector current;\\\\n\\\\n    [MenuItem(\\\\\"Tools\\\\/Audio Source Selector\\\\\")]\\\\n    static void ShowWindow()\\\\n    {\\\\n        if (current != null)\\\\n        {\\\\n            current.Close();\\\\n        }\\\\n\\\\n        current = new AudioSourceSelector();\\\\n        current.Show();\\\\n    }\\\\n\\\\n    private void OnSelectAudioSource()\\\\n    {\\\\n        \\\\/\\\\/ Clear the audio sources list\\\\n        audioSourceList.Clear();\\\\n\\\\n        \\\\/\\\\/ Get all the AudioSources in the scene\\\\n        AudioSource[] audioSources = FindObjectsOfType<AudioSource>();\\\\n\\\\n        \\\\/\\\\/ Add all the AudioSources to the list\\\\n        foreach (AudioSource audioSource in audioSources)\\\\n        {\\\\n            audioSourceList.Add(audioSource);\\\\n        }\\\\n    }\\\\n\\\\n    private void OnPlayAudioSource()\\\\n    {\\\\n        \\\\/\\\\/ Select the currently highlighted audio source\\\\n        Selection.activeGameObject = audioSourceList[currentSelection];\\\\n\\\\n        \\\\/\\\\/ Play the audio source\\\\n        audioSourceList[currentSelection].Play();\\\\n    }\\\\n\\\\n    [MenuItem(\\\\\"Tools\\\\/Audio Source Selector\\\\\")]\\\\n    static void ShowWindow()\\\\n    {\\\\n        if (current != null)\\\\n        {\\\\n            current.Close();\\\\n        }\\\\n\\\\n        current = new AudioSourceSelector();\\\\n        current.Show();\\\\n    }\\\\n}\\\\n```\\\\nThis script uses the `EditorWindow` class to create a custom Unity editor window that allows the user to select an audio source and play it. The `ShowWindow()` function is used to show the window and the `Show()` function is used to close it.\\\\n\\\\nThe `OnSelectAudioSource()` function is called when the user selects an audio source from the list. It gets all the `AudioSources` in the scene, adds them to the `audioSourceList` list, and clears the list.\\\\n\\\\nThe `OnPlayAudioSource()` function is called when the user clicks the \\\\\"Play\\\\\" button. It selects the currently highlighted audio source, plays it, and updates the `currentSelection` variable to reflect the new selection.\",\"```\\\\nusing UnityEngine;\\\\nusing UnityEditor;\\\\n\\\\n[ExecuteInEditMode]\\\\npublic class AudioSourceSelector : EditorWindow\\\\n{\\\\n    public static AudioSourceSelector current;\\\\n\\\\n    [MenuItem(\\\\\"Tools\\\\/Audio Source Selector\\\\\")]\\\\n    static void ShowWindow()\\\\n    {\\\\n        if (current != null)\\\\n        {\\\\n            current.Close();\\\\n        }\\\\n\\\\n        current = new AudioSourceSelector();\\\\n        current.Show();\\\\n    }\\\\n\\\\n    private void OnSelectAudioSource()\\\\n    {\\\\n        \\\\/\\\\/ Clear the audio sources list\\\\n        audioSourceList.Clear();\\\\n\\\\n        \\\\/\\\\/ Get all the AudioSources in the scene\\\\n        AudioSource[] audioSources = FindObjectsOfType<AudioSource>();\\\\n\\\\n        \\\\/\\\\/ Add all the AudioSources to the list\\\\n        foreach (AudioSource audioSource in audioSources)\\\\n        {\\\\n            audioSourceList.Add(audioSource);\\\\n        }\\\\n    }\\\\n\\\\n    private void OnPlayAudioSource()\\\\n    {\\\\n        \\\\/\\\\/ Select the currently highlighted audio source\\\\n        Selection.activeGameObject = audioSourceList[currentSelection];\\\\n\\\\n        \\\\/\\\\/ Play the audio source\\\\n        audioSourceList[currentSelection].Play();\\\\n    }\\\\n\\\\n    [MenuItem(\\\\\"Tools\\\\/Audio Source Selector\\\\\")]\\\\n    static void ShowWindow()\\\\n    {\\\\n        if (current != null)\\\\n        {\\\\n            current.Close();\\\\n        }\\\\n\\\\n        current = new AudioSourceSelector();\\\\n        current.Show();\\\\n    }\\\\n}\\\\n```\"]'"
      ]
     },
     "execution_count": 9,
     "metadata": {},
     "output_type": "execute_result"
    }
   ],
   "source": [
    "df_orig.loc[130, \"response_a\"]\n",
    "# FINDING: The value only contains null as a part of response"
   ]
  },
  {
   "cell_type": "code",
   "execution_count": null,
   "id": "71eefec1",
   "metadata": {
    "papermill": {
     "duration": 0.006792,
     "end_time": "2024-07-15T05:22:16.566956",
     "exception": false,
     "start_time": "2024-07-15T05:22:16.560164",
     "status": "completed"
    },
    "tags": []
   },
   "outputs": [],
   "source": []
  }
 ],
 "metadata": {
  "kaggle": {
   "accelerator": "none",
   "dataSources": [
    {
     "databundleVersionId": 8346466,
     "sourceId": 66631,
     "sourceType": "competition"
    }
   ],
   "dockerImageVersionId": 30732,
   "isGpuEnabled": false,
   "isInternetEnabled": true,
   "language": "python",
   "sourceType": "notebook"
  },
  "kernelspec": {
   "display_name": "Python 3",
   "language": "python",
   "name": "python3"
  },
  "language_info": {
   "codemirror_mode": {
    "name": "ipython",
    "version": 3
   },
   "file_extension": ".py",
   "mimetype": "text/x-python",
   "name": "python",
   "nbconvert_exporter": "python",
   "pygments_lexer": "ipython3",
   "version": "3.10.13"
  },
  "papermill": {
   "default_parameters": {},
   "duration": 13.945012,
   "end_time": "2024-07-15T05:22:17.095445",
   "environment_variables": {},
   "exception": null,
   "input_path": "__notebook__.ipynb",
   "output_path": "__notebook__.ipynb",
   "parameters": {},
   "start_time": "2024-07-15T05:22:03.150433",
   "version": "2.5.0"
  }
 },
 "nbformat": 4,
 "nbformat_minor": 5
}
